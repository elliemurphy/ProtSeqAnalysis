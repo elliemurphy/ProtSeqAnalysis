{
 "cells": [
  {
   "cell_type": "markdown",
   "metadata": {},
   "source": [
    "### **Data Science and Machine Learning for the Biosciences**"
   ]
  },
  {
   "cell_type": "markdown",
   "metadata": {},
   "source": [
    "## **Analysis of Plant Protein Sequences and Motif Identification**"
   ]
  },
  {
   "cell_type": "markdown",
   "metadata": {},
   "source": [
    "In the study of plant science, and specifically cell signalling (an area our lab specialises in), protein sequences provide a great deal of information on the function of proteins, and the degree of simlarity between different plant species.\n",
    "\n",
    "This software initially performs some simple analysis of protein sequences. Following this, identification of motifs (short conserved sequences inferring related function) within grouped protein sequences will be carried out."
   ]
  },
  {
   "cell_type": "markdown",
   "metadata": {},
   "source": [
    "**Example protein sequences**\n",
    "\n",
    "Two receptor protein sequences from the PYR/PYL/RCAR (ABA receptor) family, PYL1 and PYL2, have been included to input when prompted.\n",
    "\n",
    "*Arabidopsis thaliana* PYL1 receptor protein:\n",
    ">sp|Q8VZS8|PYL1_ARATH Abscisic acid receptor PYL1 OS=Arabidopsis thaliana OX=3702 GN=PYL1 PE=1 SV=1\n",
    "MANSESSSSPVNEEENSQRISTLHHQTMPSDLTQDEFTQLSQSIAEFHTYQLGNGRCSSLLAQRIHAPPETVWSVVRRFDRPQIYKHFIKSCNVSEDFEMRVGCTRDVNVISGLPANTSRERLDLLDDDRRVTGFSITGGEHRLRNYKSVTTVHRFEKEEEEERIWTVVLESYVVDVPEGNSEEDTRLFADTVIRLNLQKLASITEAMNRNNNNNNSSQVR\n",
    "\n",
    "*Arabidopsis thaliana* PYL2 receptor protein:\n",
    ">sp|O80992|PYL2_ARATH Abscisic acid receptor PYL2 OS=Arabidopsis thaliana OX=3702 GN=PYL2 PE=1 SV=1\n",
    "MSSSPAVKGLTDEEQKTLEPVIKTYHQFEPDPTTCTSLITQRIHAPASVVWPLIRRFDNPERYKHFVKRCRLISGDGDVGSVREVTVISGLPASTSTERLEFVDDDHRVLSFRVVGGEHRLKNYKSVTSVNEFLNQDSGKVYTVVLESYTVDIPEGNTEEDTKMFVDTVVKLNLQKLGVAATSAPMHDDE"
   ]
  },
  {
   "cell_type": "markdown",
   "metadata": {},
   "source": [
    "### Import necessary programs"
   ]
  },
  {
   "cell_type": "code",
   "execution_count": null,
   "metadata": {},
   "outputs": [],
   "source": [
    "import matplotlib.pyplot as plt\n",
    "import Bio\n",
    "from Bio import SeqIO\n",
    "from Bio.SeqUtils.ProtParam import ProteinAnalysis\n",
    "import glob"
   ]
  },
  {
   "cell_type": "markdown",
   "metadata": {},
   "source": [
    "A simple loop to check that each protein sequence has only the correct characters defining amino acids (and prints error message if incorrect characters are present):\n",
    "\n",
    "- Initially printed the 'No errors detected' message once for each character, resulting in a huge output, but added `break` command to prevent this."
   ]
  },
  {
   "cell_type": "code",
   "execution_count": null,
   "metadata": {},
   "outputs": [],
   "source": [
    "def error_check():\n",
    "\n",
    "    protein = input(\"Input protein sequence:\")\n",
    "\n",
    "    # Error checking\n",
    "\n",
    "    for residue in protein:\n",
    "\n",
    "        accepted_characters = \"ARNDBCEQZGHILKMFPSTWYV\"\n",
    "\n",
    "        if residue in accepted_characters:\n",
    "            print(\"No errors detected. Please continue\")\n",
    "            break\n",
    "        else:\n",
    "            print(\"Error: Protein sequence has non-recognised characters\")\n",
    "            break\n",
    "            \n",
    "error_check()"
   ]
  },
  {
   "cell_type": "markdown",
   "metadata": {},
   "source": [
    "### Amino Acid Frequency Analysis"
   ]
  },
  {
   "cell_type": "markdown",
   "metadata": {},
   "source": [
    "Function to calculate amino acid frequencies of a protein sequence and produce a barplot of the results. \n",
    "\n",
    "When looking at protein sequences, those with a more similar amino acid composition are more likely to perform a similar function. \n",
    "\n",
    "Example below is PYL1 protein sequence (found at top of page)."
   ]
  },
  {
   "cell_type": "markdown",
   "metadata": {},
   "source": [
    "#### Method 1 (ineffective method)\n",
    "A loop used to produce a dictionary of the amino acid composition of a given protein sequence. Barplot was then created manually by entering each amino acid and its frequency as observed in the dictionary. \n",
    "\n",
    "- Time-consuming method and potential to make mistakes when inputting the counts for each amino acid."
   ]
  },
  {
   "cell_type": "code",
   "execution_count": null,
   "metadata": {},
   "outputs": [],
   "source": [
    "# Producing a dictionary of the occurrence of each amino acid\n",
    "\n",
    "protein = input(\"Input protein sequence:\")\n",
    "\n",
    "count={}\n",
    "for c in protein:\n",
    "    count[c]=count.setdefault(c, 0)+1\n",
    "print(count)\n",
    "\n",
    "# Producing barplot (PYR1 protein sequence used as example)\n",
    "\n",
    "fig = plt.figure()\n",
    "ax = fig.add_axes([0,0,1,1])\n",
    "AminoAcid = [\"A\", \"C\", \"D\", \"E\", \"F\", \"G\", \"H\", \"I\", \"K\", \"L\", \"M\", \"N\", \"P\", \"Q\", \"R\", \"S\", \"T\", \"V\", \"W\", \"Y\"]\n",
    "Frequency = [8, 3, 12, 22, 8, 8, 7, 10, 5, 16, 4, 17, 7, 10, 20, 24, 16, 18, 2, 4]\n",
    "ax.bar(AminoAcid,Frequency, color = \"white\", edgecolor = \"black\")\n",
    "plt.title(\"Amino Acid Frequencies\")\n",
    "plt.xlabel(\"Amino Acid\")\n",
    "plt.ylabel(\"Frequency\")\n",
    "plt.show()"
   ]
  },
  {
   "cell_type": "markdown",
   "metadata": {},
   "source": [
    "#### Method 2 (effective method)\n",
    "A function that uses Biopython to produce an amino acid composition dictionary and converts the output into a barplot.\n",
    "\n",
    "- Far quicker method, requiring no manual input of values."
   ]
  },
  {
   "cell_type": "code",
   "execution_count": null,
   "metadata": {},
   "outputs": [],
   "source": [
    "def amino_freq():\n",
    "    \n",
    "    protein = input(\"Input protein sequence:\")\n",
    "    \n",
    "    # Amino Acid Frequencies\n",
    "    \n",
    "    analysed_seq = ProteinAnalysis(protein)\n",
    "    Amino_acid_freqs = analysed_seq.count_amino_acids()\n",
    "    print(\"Amino acid frequency:\", Amino_acid_freqs)\n",
    "    \n",
    "    # Barplot directly from dictionary\n",
    "    \n",
    "    x = Amino_acid_freqs.keys()\n",
    "    y = Amino_acid_freqs.values()\n",
    "    plt.bar(x, y, color = \"white\", edgecolor = \"black\")\n",
    "    plt.title(\"Amino Acid Frequencies\")\n",
    "    plt.xlabel(\"Amino Acid\")\n",
    "    plt.ylabel(\"Frequency\")\n",
    "    plt.show()\n",
    "    \n",
    "amino_freq()"
   ]
  },
  {
   "cell_type": "markdown",
   "metadata": {},
   "source": [
    "### Conserved Domain Identification Software"
   ]
  },
  {
   "cell_type": "markdown",
   "metadata": {},
   "source": [
    "A chosen protein sequence was inputted into the [NCBI Batch Web Conserved Domain Search Tool](https://www.ncbi.nlm.nih.gov/Structure/bwrpsb/bwrpsb.cgi), which identifies and lists any conserved domains within the given sequence.\n",
    "\n",
    "Function allowing the identification of motifs in protein sequences. Motifs are short conserved sequences that are likely to be idnetified in proteins performing similar functions. I will demonstrate the use of this software on group BLAST results obtained from a senior member of the Hetherington Lab. Each BMGE file contains gene families.\n",
    "\n",
    "An example motif for use below:\n",
    "- KPENFLLVNKF\n",
    "\n",
    "The software will search through the given files and identify any protein sequences containing this motif. If the motif is present in a protein sequence, this sequence will be appended to a text file containing the results of the search.\n",
    "\n",
    "\n",
    "#### Method 1 - Unsuccessful\n",
    "\n",
    "- Encountered \"TypeError: descriptor 'append' for 'list' objects doesn't apply to a 'str' object\". Solved this by creating second separate function to read in files and run them through the `motif_finder` function.\n",
    "\n",
    "- Results were printed in long list as output and [] (blank space in list) if sequence did not possess motif. Solved by creating text file to list search results.\n",
    "\n",
    "- Wasn't sure how to read in all BMGE files at once, rather than searching through one at a time. Solved using `glob` module."
   ]
  },
  {
   "cell_type": "code",
   "execution_count": null,
   "metadata": {},
   "outputs": [],
   "source": [
    "def motif_finder(Seq_record, Motif):\n",
    "\n",
    "    # Function to identify motifs within protein sequences\n",
    "\n",
    "    sequence = str(Seq_record.seq)\n",
    "    motif = str(Motif)\n",
    "    \n",
    "    m_list = []\n",
    "    if motif in sequence:\n",
    "        print(Seq_record.description)\n",
    "\n",
    "        list.append(Seq_record.description)\n",
    "\n",
    "    return(m_list)\n",
    "    print(\"Function completed\")\n",
    "\n",
    "records = SeqIO.parse(\"SLAC1.bmge\", \"fasta\")\n",
    "motif = input(\"Input motif:\")\n",
    "for record in records:\n",
    "    m_list = motif_finder(record, motif)\n",
    "    print(m_list)"
   ]
  },
  {
   "cell_type": "markdown",
   "metadata": {},
   "source": [
    "#### Method 2 - Successful\n",
    "\n",
    "Split method 1 into two separate functions, and added additional functions to produce a file containing results and inform user of success of search.\n",
    "\n",
    "**Function 1:** Searches through a sequence to locate if motif is present.\n",
    "\n",
    "- `str()` converts sequence and motif to a string.\n",
    "\n",
    "- A list is created onto which any sequence containing the motif is appended."
   ]
  },
  {
   "cell_type": "code",
   "execution_count": null,
   "metadata": {},
   "outputs": [],
   "source": [
    "def motif_finder(records, Motif):\n",
    "\n",
    "    # Function to identify motifs within protein sequences\n",
    "\n",
    "    m_list = []\n",
    "    for record in records:\n",
    "        sequence = str(record.seq)\n",
    "        motif = str(Motif)\n",
    "        if motif in sequence:\n",
    "            m_list.append(record.description)\n",
    "        else:\n",
    "            continue\n",
    "    return(m_list)"
   ]
  },
  {
   "cell_type": "markdown",
   "metadata": {},
   "source": [
    "**Function 2:** Reads in files and runs each sequence within them through the `motif_finder` function.\n",
    "\n",
    "- The `glob` module allows user to recursively open files that contain a matching pattern (in this case all are BMGE files and contain the .bmge extension). Potential to alter function to read in other formats such as FASTA (.fa) files.\n",
    "\n",
    "- `SeqIO.parse()` takes the input files and returns an iterator that lists each sequence in FASTA format.\n",
    "\n",
    "- The results are placed in a new dictionary."
   ]
  },
  {
   "cell_type": "code",
   "execution_count": null,
   "metadata": {},
   "outputs": [],
   "source": [
    "def run_motif_finder(motif):\n",
    "    \n",
    "    # Function to read in BMGE files and list each sequence within the files\n",
    "    \n",
    "    motif_dict = {}\n",
    "    for genefamily in glob.glob(\"*.bmge\"):\n",
    "        records = SeqIO.parse(genefamily, \"fasta\")\n",
    "        m_list = motif_finder(records, motif)\n",
    "        motif_dict[genefamily] = m_list\n",
    "    return motif_dict"
   ]
  },
  {
   "cell_type": "markdown",
   "metadata": {},
   "source": [
    "**Function 3:** Creates a text file within which the results are listed.\n",
    "\n",
    "- A new text file called \"Results.txt\" is created.\n",
    "\n",
    "- Within \"Results.txt\", each BMGE file that was analysed is listed, beneath which the species name and sequence number of any sequences containing the motif are listed, separated by commas."
   ]
  },
  {
   "cell_type": "code",
   "execution_count": null,
   "metadata": {},
   "outputs": [],
   "source": [
    "def write_results(motif_dict):\n",
    "    \n",
    "    #Function to produce a results file and place sequences containing motif within it\n",
    "    \n",
    "    file = open(\"Results.txt\", \"w\")\n",
    "    for genefamily, motifs in motif_dict.items():\n",
    "        motifs = \",\".join(motifs)\n",
    "        line = genefamily + \"\\n\" + motifs + \"\\n\"\n",
    "        file.write(line)\n",
    "    file.close()"
   ]
  },
  {
   "cell_type": "markdown",
   "metadata": {},
   "source": [
    "**Function 4:** Prints a message to inform user whether any motifs were identified within files."
   ]
  },
  {
   "cell_type": "code",
   "execution_count": null,
   "metadata": {},
   "outputs": [],
   "source": [
    "def output(motif_dict):\n",
    "    \n",
    "    # Function to print message of success/failure of search\n",
    "    \n",
    "    if len(motif_dict) >= 1:\n",
    "        print(\"Thank you for using motif finder, search results are in 'Results.txt'\")\n",
    "    else:\n",
    "        print(\"Sorry, motif was not found in specified  protein sequences\")"
   ]
  },
  {
   "cell_type": "markdown",
   "metadata": {},
   "source": [
    "**Run functions:**"
   ]
  },
  {
   "cell_type": "code",
   "execution_count": null,
   "metadata": {},
   "outputs": [],
   "source": [
    "motif = input(\"Input motif:\")\n",
    "motif_dict = run_motif_finder(motif)\n",
    "write_results(motif_dict)\n",
    "output(motif_dict)"
   ]
  }
 ],
 "metadata": {
  "kernelspec": {
   "display_name": "Python 3",
   "language": "python",
   "name": "python3"
  },
  "language_info": {
   "codemirror_mode": {
    "name": "ipython",
    "version": 3
   },
   "file_extension": ".py",
   "mimetype": "text/x-python",
   "name": "python",
   "nbconvert_exporter": "python",
   "pygments_lexer": "ipython3",
   "version": "3.8.5"
  }
 },
 "nbformat": 4,
 "nbformat_minor": 4
}
